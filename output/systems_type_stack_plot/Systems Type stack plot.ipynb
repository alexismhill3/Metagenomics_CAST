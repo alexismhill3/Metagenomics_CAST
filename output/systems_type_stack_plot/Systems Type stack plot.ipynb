{
 "cells": [
  {
   "cell_type": "code",
   "execution_count": 2,
   "metadata": {
    "scrolled": true
   },
   "outputs": [
    {
     "name": "stderr",
     "output_type": "stream",
     "text": [
      "<ipython-input-2-f600a3b160e5>:33: MatplotlibDeprecationWarning: Unrecognized location '0'. Falling back on 'best'; valid locations are\n",
      "\tbest\n",
      "\tupper right\n",
      "\tupper left\n",
      "\tlower left\n",
      "\tlower right\n",
      "\tright\n",
      "\tcenter left\n",
      "\tcenter right\n",
      "\tlower center\n",
      "\tupper center\n",
      "\tcenter\n",
      "This will raise an exception in 3.3.\n",
      "  ax.legend(handles[::-1], labels[::-1], loc='0')\n",
      "The PostScript backend does not support transparency; partially transparent artists will be rendered opaque.\n",
      "The PostScript backend does not support transparency; partially transparent artists will be rendered opaque.\n"
     ]
    },
    {
     "data": {
      "image/png": "[encoded data removed]",
      "text/plain": [
       "<Figure size 504x432 with 1 Axes>"
      ]
     },
     "metadata": {
      "needs_background": "light"
     },
     "output_type": "display_data"
    }
   ],
   "source": [
    "import matplotlib.pyplot as plt\n",
    "import numpy as np\n",
    "import pandas as pd\n",
    "labels = ['NCBI','Metagenomic']\n",
    "df = pd.read_csv('Tn7_subsystem_summary.csv',sep='\\t')\n",
    "NCBI_sum = df['NCBI'].sum()\n",
    "META_sum = df['META'].sum()\n",
    "NCBI_factor = NCBI_sum/100\n",
    "META_factor = META_sum/100\n",
    "Type_IF = np.array([df['NCBI'][0]/NCBI_factor,df['META'][0]/META_factor])\n",
    "Type_IB =  np.array([df['NCBI'][1]/NCBI_factor,df['META'][1]/META_factor])\n",
    "Type_IC = np.array([df['NCBI'][2]/NCBI_factor,df['META'][2]/META_factor])\n",
    "#Splits_protein= np.array([df['NCBI'][3]/NCBI_factor,df['META'][3]/META_factor])\n",
    "#Fusion_protein= np.array([df['NCBI'][4]/NCBI_factor,df['META'][4]/META_factor])\n",
    "Type_IV= np.array([df['NCBI'][3]/NCBI_factor,df['META'][3]/META_factor])\n",
    "Type_V= np.array([df['NCBI'][4]/NCBI_factor,df['META'][4]/META_factor])\n",
    "Type_VII= np.array([df['NCBI'][5]/NCBI_factor,df['META'][5]/META_factor])\n",
    "#change the input\n",
    "width = 0.35    \n",
    "fig, ax = plt.subplots(figsize=(7,6))\n",
    "\n",
    "ax.bar(labels, Type_IF,width,  label='Type IF',color='#56B4E9')\n",
    "ax.bar(labels, Type_IB,width, bottom=Type_IF, label='Type IB',color='#0072B2')\n",
    "ax.bar(labels, Type_IC,width, bottom=Type_IF+Type_IB, label='Type IC',color='#F0E442')\n",
    "\n",
    "ax.bar(labels, Type_IV,width,bottom=Type_IF+Type_IB+Type_IC, label='Type IV',color='#D55E00')\n",
    "ax.bar(labels, Type_V,width,bottom=Type_IF+Type_IB+Type_IC+Type_IV, label='Type V',color='orange')\n",
    "ax.bar(labels, Type_VII,width,bottom=Type_IF+Type_IB+Type_IC+Type_IV+Type_V, label='Type VII',color='purple')\n",
    "ax.set_ylabel('Percentage',fontsize=14)\n",
    "#ax.set_title('Scores by group and gender')\n",
    "ax.legend(fontsize=14)# check how to put the legend on the right\n",
    "handles, labels = ax.get_legend_handles_labels()\n",
    "ax.legend(handles[::-1], labels[::-1], loc='0')\n",
    "plt.xticks(size = 14)\n",
    "plt.yticks(size = 14)\n",
    "#plt.savefig('figure.pdf')\n",
    "plt.savefig('Systems Type stack plot.eps', format='eps')\n",
    "plt.show()\n"
   ]
  },
  {
   "cell_type": "code",
   "execution_count": null,
   "metadata": {},
   "outputs": [],
   "source": []
  }
 ],
 "metadata": {
  "kernelspec": {
   "display_name": "Python 3",
   "language": "python",
   "name": "python3"
  },
  "language_info": {
   "codemirror_mode": {
    "name": "ipython",
    "version": 3
   },
   "file_extension": ".py",
   "mimetype": "text/x-python",
   "name": "python",
   "nbconvert_exporter": "python",
   "pygments_lexer": "ipython3",
   "version": "3.8.3"
  }
 },
 "nbformat": 4,
 "nbformat_minor": 4
}
