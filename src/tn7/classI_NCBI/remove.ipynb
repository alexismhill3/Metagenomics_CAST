{
 "cells": [
  {
   "cell_type": "code",
   "execution_count": 1,
   "metadata": {},
   "outputs": [],
   "source": [
    "import os\n",
    "def Get_all_file(path):\n",
    "    paths,files = [],[]\n",
    "    # r=root, d=directories, f = files\n",
    "    for r, d, f in os.walk(path):\n",
    "        for file in f:    \n",
    "            #print (file)\n",
    "            p = os.path.join(r, file)\n",
    "            paths.append(os.path.abspath(p))\n",
    "            files.append(file)\n",
    "    for f in files:\n",
    "        #print(f)\n",
    "        pass\n",
    "    return paths, files\n",
    "\n",
    "\n",
    "\n",
    "path = '/stor/work/Wilke/contig/database/metagenomic_contig_database/NCBI_redownload/genbank_bacteria_20210505'\n",
    "paths_flank, files_flank = Get_all_file(path)                  "
   ]
  },
  {
   "cell_type": "code",
   "execution_count": null,
   "metadata": {},
   "outputs": [],
   "source": []
  }
 ],
 "metadata": {
  "kernelspec": {
   "display_name": "Python 3",
   "language": "python",
   "name": "python3"
  },
  "language_info": {
   "codemirror_mode": {
    "name": "ipython",
    "version": 3
   },
   "file_extension": ".py",
   "mimetype": "text/x-python",
   "name": "python",
   "nbconvert_exporter": "python",
   "pygments_lexer": "ipython3",
   "version": "3.6.9"
  }
 },
 "nbformat": 4,
 "nbformat_minor": 2
}
