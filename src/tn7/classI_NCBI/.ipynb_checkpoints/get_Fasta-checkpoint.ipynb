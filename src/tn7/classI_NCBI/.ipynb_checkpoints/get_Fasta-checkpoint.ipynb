{
 "cells": [
  {
   "cell_type": "code",
   "execution_count": null,
   "metadata": {},
   "outputs": [],
   "source": [
    "import pandas as pd\n",
    "\n",
    "df = pd.read_csv('/stor/work/Wilke/crisprtn7/typeI_Meta_gene_finder.csv',sep=',',names = ['contigID','region ','gene','position','id','direction','target_number','e','description'\n",
    "                                             ,'aa_sequence','bitscore','rawscore','alignment_length','percent_identical'\n",
    "                                             ,'number_identical','number_of_mismatches','positive_scoring','gap_openings','gaps'\n",
    "                                             ,'percent_positive_matches','alignment_query_coverage','input_filename'])"
   ]
  },
  {
   "cell_type": "code",
   "execution_count": 7,
   "metadata": {},
   "outputs": [
    {
     "data": {
      "text/plain": [
       "[SeqFeature(FeatureLocation(ExactPosition(3), ExactPosition(12)), type='misc_feature')]"
      ]
     },
     "execution_count": 7,
     "metadata": {},
     "output_type": "execute_result"
    }
   ],
   "source": [
    "import os\n",
    "def Get_all_file(path):\n",
    "    paths,files = [],[]\n",
    "    # r=root, d=directories, f = files\n",
    "    for r, d, f in os.walk(path):\n",
    "        for file in f:    \n",
    "            #print (file)\n",
    "            p = os.path.join(r, file)\n",
    "            paths.append(os.path.abspath(p))\n",
    "            files.append(file)\n",
    "    for f in files:\n",
    "        #print(f)\n",
    "        pass\n",
    "    return paths, files\n",
    "\n",
    "\n",
    "\n",
    "path = './First_round_pic'\n",
    "paths_flank, files_flank = Get_all_file(path)"
   ]
  },
  {
   "cell_type": "code",
   "execution_count": null,
   "metadata": {},
   "outputs": [],
   "source": [
    "list_=[]\n",
    "for x in files_flank:\n",
    "    list_.append(x.split('-')[0])"
   ]
  },
  {
   "cell_type": "code",
   "execution_count": null,
   "metadata": {},
   "outputs": [],
   "source": [
    "list_1=[]\n",
    "for x in list_:\n",
    "    df_test = df.loc[df['contigID'] == x]\n",
    "    try:\n",
    "        df_test=df_test.reset_index()\n",
    "        file_=df_test['input_filename'][0]\n",
    "        list_1.append(file_)\n",
    "    except:\n",
    "        print('file_')"
   ]
  },
  {
   "cell_type": "code",
   "execution_count": null,
   "metadata": {},
   "outputs": [],
   "source": [
    "#for fasta\n",
    "from Bio.Seq import Seq\n",
    "from Bio.SeqRecord import SeqRecord\n",
    "from Bio import SeqIO\n",
    "import gzip\n",
    "from Bio import SeqIO\n",
    "from Bio.Alphabet import IUPAC\n",
    "def get_seq(id_name,seqfront,seqback):\n",
    "    df_test = df.loc[df['contigID'] == id_name]\n",
    "    df_test=df_test.reset_index()\n",
    "    file = df_test['input_filename'][0]\n",
    "   \n",
    "    relative_path = file.split(\"/scratch/07227/hilla3/projects/CRISPR-Transposons/data/genomic\")[-1]\n",
    "    src = '/stor/work/Wilke/contig/database/metagenomic_contig_database/EMBL_EBI'+relative_path\n",
    "    print(src)\n",
    "    with gzip.open(src, \"rt\") as handle:\n",
    "        records= list(SeqIO.parse(handle, \"fasta\"))\n",
    "    \n",
    "    for x in records:\n",
    "        if x.id == id_name:\n",
    "            sequence = Seq(str(x.seq), IUPAC.unambiguous_dna)\n",
    "            #print(sequence)\n",
    "    #sequence[seqfront:seqback]\n",
    "    return sequence[seqfront:seqback]"
   ]
  },
  {
   "cell_type": "code",
   "execution_count": null,
   "metadata": {},
   "outputs": [],
   "source": []
  },
  {
   "cell_type": "code",
   "execution_count": null,
   "metadata": {},
   "outputs": [],
   "source": [
    "#Write a fasta file\n",
    "from Bio.Alphabet import IUPAC\n",
    "for x in files_flank:\n",
    "\n",
    "    id_name = x.split('-')[0]\n",
    "    seqfront = int(x.split('-')[1])\n",
    "    seqback = int(x.split('-')[2][:-4])\n",
    "    the_seq = get_seq(id_name,seqfront,seqback)\n",
    "    rec1 = SeqRecord(the_seq,id=id_name,name='Example',description=id_name)\n",
    "    name = './fasta/'+id_name+'-'+str(seqfront)+'-'+str(seqback)+'.fasta'\n",
    "    SeqIO.write([rec1], name, \"fasta\")\n"
   ]
  }
 ],
 "metadata": {
  "kernelspec": {
   "display_name": "Python 3",
   "language": "python",
   "name": "python3"
  },
  "language_info": {
   "codemirror_mode": {
    "name": "ipython",
    "version": 3
   },
   "file_extension": ".py",
   "mimetype": "text/x-python",
   "name": "python",
   "nbconvert_exporter": "python",
   "pygments_lexer": "ipython3",
   "version": "3.6.9"
  }
 },
 "nbformat": 4,
 "nbformat_minor": 2
}
